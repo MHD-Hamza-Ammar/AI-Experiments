{
  "cells": [
    {
      "cell_type": "markdown",
      "metadata": {
        "id": "view-in-github",
        "colab_type": "text"
      },
      "source": [
        "<a href=\"https://colab.research.google.com/github/MHD-Hamza-Ammar/AI-Experiments/blob/main/A2_Logistic_Regression_Images.ipynb\" target=\"_parent\"><img src=\"https://colab.research.google.com/assets/colab-badge.svg\" alt=\"Open In Colab\"/></a>"
      ]
    },
    {
      "cell_type": "code",
      "execution_count": 4,
      "id": "0009c0ce",
      "metadata": {
        "id": "0009c0ce"
      },
      "outputs": [],
      "source": [
        "import numpy as np\n",
        "import pandas as pd\n",
        "from sklearn.linear_model import LogisticRegression\n",
        "import matplotlib.pyplot as plt\n",
        "from sklearn.model_selection import train_test_split\n",
        "\n",
        "import seaborn as sb\n",
        "import cv2 \n",
        "import os\n",
        "from imutils import paths"
      ]
    },
    {
      "cell_type": "code",
      "source": [
        "from google.colab import drive\n",
        "drive.mount('/content/drive')"
      ],
      "metadata": {
        "colab": {
          "base_uri": "https://localhost:8080/"
        },
        "id": "dInWqOe4GBDZ",
        "outputId": "780847f4-4621-402b-859f-eda73d6bfec7"
      },
      "id": "dInWqOe4GBDZ",
      "execution_count": 5,
      "outputs": [
        {
          "output_type": "stream",
          "name": "stdout",
          "text": [
            "Drive already mounted at /content/drive; to attempt to forcibly remount, call drive.mount(\"/content/drive\", force_remount=True).\n"
          ]
        }
      ]
    },
    {
      "cell_type": "code",
      "execution_count": 6,
      "id": "219d68c1",
      "metadata": {
        "id": "219d68c1",
        "colab": {
          "base_uri": "https://localhost:8080/"
        },
        "outputId": "fd043239-6321-4f4d-9ead-ce0066e9566c"
      },
      "outputs": [
        {
          "output_type": "stream",
          "name": "stdout",
          "text": [
            "['Abdullah', 'Abdullah', 'Abdullah', 'Abdullah', 'Aaron_Peirsol', 'Aaron_Peirsol', 'Aaron_Peirsol', 'Aaron_Peirsol', 'Hamza', 'Hamza', 'Hamza', 'Hamza', 'Hamza', 'Abel_Pacheco', 'Abel_Pacheco', 'Abel_Pacheco', 'Abel_Pacheco', 'Abdoulaye_Wade', 'Abdoulaye_Wade', 'Abdoulaye_Wade', 'Abdoulaye_Wade']\n"
          ]
        }
      ],
      "source": [
        "def imgmodifier(img, size=(32,32)):\n",
        "    img=cv2.resize(img,size)\n",
        "    pic=img.flatten()\n",
        "    return pic\n",
        "\n",
        "path=list(paths.list_images(\"/content/drive/MyDrive/AI Course - Raheem/Datasets/Faces Samples\"))\n",
        "img=[]\n",
        "label=[]\n",
        "\n",
        "for (i,imagp) in enumerate(path):\n",
        "    imge=cv2.imread(imagp)\n",
        "    lab=imagp.split(os.path.sep)[-2]\n",
        "    pixel=imgmodifier(imge)\n",
        "    img.append(pixel)\n",
        "    label.append(lab)\n",
        "print(label)"
      ]
    },
    {
      "cell_type": "code",
      "execution_count": 7,
      "id": "d15b6b69",
      "metadata": {
        "id": "d15b6b69"
      },
      "outputs": [],
      "source": [
        "x=np.array(img)\n",
        "y=np.array(label)"
      ]
    },
    {
      "cell_type": "code",
      "execution_count": 56,
      "id": "cbf88408",
      "metadata": {
        "id": "cbf88408"
      },
      "outputs": [],
      "source": [
        "lr=LogisticRegression(tol=0.03)"
      ]
    },
    {
      "cell_type": "code",
      "execution_count": 57,
      "id": "fc0a4b43",
      "metadata": {
        "id": "fc0a4b43"
      },
      "outputs": [],
      "source": [
        "xtrain,xtest,ytrain,ytest=train_test_split(x,y,test_size=0.1)"
      ]
    },
    {
      "cell_type": "code",
      "execution_count": 58,
      "id": "56135a2f",
      "metadata": {
        "id": "56135a2f",
        "outputId": "d9963cf9-2d65-46f0-e3d0-c9d48c5aa6e8",
        "colab": {
          "base_uri": "https://localhost:8080/"
        }
      },
      "outputs": [
        {
          "output_type": "execute_result",
          "data": {
            "text/plain": [
              "LogisticRegression(tol=0.03)"
            ]
          },
          "metadata": {},
          "execution_count": 58
        }
      ],
      "source": [
        "lr.fit(xtrain,ytrain)"
      ]
    },
    {
      "cell_type": "code",
      "execution_count": 59,
      "id": "9a7e4977",
      "metadata": {
        "id": "9a7e4977"
      },
      "outputs": [],
      "source": [
        "pred=lr.predict(xtest)"
      ]
    },
    {
      "cell_type": "code",
      "execution_count": 60,
      "id": "68be726f",
      "metadata": {
        "id": "68be726f",
        "outputId": "c32e2f3b-c4f6-4394-a43e-31fdc6671a9a",
        "colab": {
          "base_uri": "https://localhost:8080/"
        }
      },
      "outputs": [
        {
          "output_type": "execute_result",
          "data": {
            "text/plain": [
              "0.6666666666666666"
            ]
          },
          "metadata": {},
          "execution_count": 60
        }
      ],
      "source": [
        "lr.score(xtest,ytest)"
      ]
    },
    {
      "cell_type": "code",
      "execution_count": 61,
      "id": "25df3926",
      "metadata": {
        "id": "25df3926",
        "outputId": "d243a51f-e59f-4df1-a83a-c796d09759c8",
        "colab": {
          "base_uri": "https://localhost:8080/",
          "height": 287
        }
      },
      "outputs": [
        {
          "output_type": "execute_result",
          "data": {
            "text/plain": [
              "<matplotlib.axes._subplots.AxesSubplot at 0x7f308c1de950>"
            ]
          },
          "metadata": {},
          "execution_count": 61
        },
        {
          "output_type": "display_data",
          "data": {
            "text/plain": [
              "<Figure size 432x288 with 2 Axes>"
            ],
            "image/png": "[encoded data removed]"
          },
          "metadata": {
            "needs_background": "light"
          }
        }
      ],
      "source": [
        "from sklearn.metrics import confusion_matrix\n",
        "gr=confusion_matrix(ytest,pred)\n",
        "import seaborn as sb\n",
        "sb.heatmap(gr,annot=True,)"
      ]
    },
    {
      "cell_type": "code",
      "execution_count": null,
      "id": "c69f6ae0",
      "metadata": {
        "id": "c69f6ae0"
      },
      "outputs": [],
      "source": []
    }
  ],
  "metadata": {
    "kernelspec": {
      "display_name": "Python 3 (ipykernel)",
      "language": "python",
      "name": "python3"
    },
    "language_info": {
      "codemirror_mode": {
        "name": "ipython",
        "version": 3
      },
      "file_extension": ".py",
      "mimetype": "text/x-python",
      "name": "python",
      "nbconvert_exporter": "python",
      "pygments_lexer": "ipython3",
      "version": "3.10.4"
    },
    "colab": {
      "provenance": [],
      "include_colab_link": true
    }
  },
  "nbformat": 4,
  "nbformat_minor": 5
}